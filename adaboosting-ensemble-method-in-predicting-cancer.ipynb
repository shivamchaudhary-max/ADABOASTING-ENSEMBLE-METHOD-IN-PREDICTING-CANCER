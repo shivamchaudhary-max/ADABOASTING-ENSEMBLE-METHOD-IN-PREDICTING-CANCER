{
 "cells": [
  {
   "cell_type": "code",
   "execution_count": 1,
   "id": "2c74bac0",
   "metadata": {
    "execution": {
     "iopub.execute_input": "2022-01-21T16:28:09.778571Z",
     "iopub.status.busy": "2022-01-21T16:28:09.777472Z",
     "iopub.status.idle": "2022-01-21T16:28:09.785961Z",
     "shell.execute_reply": "2022-01-21T16:28:09.786483Z",
     "shell.execute_reply.started": "2022-01-21T16:24:31.936422Z"
    },
    "papermill": {
     "duration": 0.021742,
     "end_time": "2022-01-21T16:28:09.786806",
     "exception": false,
     "start_time": "2022-01-21T16:28:09.765064",
     "status": "completed"
    },
    "tags": []
   },
   "outputs": [],
   "source": [
    "import pandas as pd"
   ]
  },
  {
   "cell_type": "code",
   "execution_count": 2,
   "id": "3dffd3fb",
   "metadata": {
    "execution": {
     "iopub.execute_input": "2022-01-21T16:28:09.808090Z",
     "iopub.status.busy": "2022-01-21T16:28:09.807134Z",
     "iopub.status.idle": "2022-01-21T16:28:09.830451Z",
     "shell.execute_reply": "2022-01-21T16:28:09.829877Z",
     "shell.execute_reply.started": "2022-01-21T16:24:45.100011Z"
    },
    "papermill": {
     "duration": 0.034878,
     "end_time": "2022-01-21T16:28:09.830601",
     "exception": false,
     "start_time": "2022-01-21T16:28:09.795723",
     "status": "completed"
    },
    "tags": []
   },
   "outputs": [],
   "source": [
    "bc=pd.read_csv('../input/breast-cancer-dataset/breast-cancer-wisconsin.csv')"
   ]
  },
  {
   "cell_type": "code",
   "execution_count": 3,
   "id": "537e303c",
   "metadata": {
    "execution": {
     "iopub.execute_input": "2022-01-21T16:28:09.854393Z",
     "iopub.status.busy": "2022-01-21T16:28:09.853759Z",
     "iopub.status.idle": "2022-01-21T16:28:09.868971Z",
     "shell.execute_reply": "2022-01-21T16:28:09.869445Z",
     "shell.execute_reply.started": "2022-01-21T16:24:58.447063Z"
    },
    "papermill": {
     "duration": 0.03119,
     "end_time": "2022-01-21T16:28:09.869615",
     "exception": false,
     "start_time": "2022-01-21T16:28:09.838425",
     "status": "completed"
    },
    "tags": []
   },
   "outputs": [
    {
     "data": {
      "text/html": [
       "<div>\n",
       "<style scoped>\n",
       "    .dataframe tbody tr th:only-of-type {\n",
       "        vertical-align: middle;\n",
       "    }\n",
       "\n",
       "    .dataframe tbody tr th {\n",
       "        vertical-align: top;\n",
       "    }\n",
       "\n",
       "    .dataframe thead th {\n",
       "        text-align: right;\n",
       "    }\n",
       "</style>\n",
       "<table border=\"1\" class=\"dataframe\">\n",
       "  <thead>\n",
       "    <tr style=\"text-align: right;\">\n",
       "      <th></th>\n",
       "      <th>sample_code</th>\n",
       "      <th>clump_thickness</th>\n",
       "      <th>cell_size</th>\n",
       "      <th>cell_shape</th>\n",
       "      <th>marg_adhes</th>\n",
       "      <th>epi_cell_size</th>\n",
       "      <th>bare_nuc</th>\n",
       "      <th>bland_chr</th>\n",
       "      <th>normal_nuc</th>\n",
       "      <th>motoses</th>\n",
       "      <th>class</th>\n",
       "    </tr>\n",
       "  </thead>\n",
       "  <tbody>\n",
       "    <tr>\n",
       "      <th>0</th>\n",
       "      <td>1002945</td>\n",
       "      <td>5</td>\n",
       "      <td>4</td>\n",
       "      <td>4</td>\n",
       "      <td>5</td>\n",
       "      <td>7</td>\n",
       "      <td>10</td>\n",
       "      <td>3</td>\n",
       "      <td>2</td>\n",
       "      <td>1</td>\n",
       "      <td>2</td>\n",
       "    </tr>\n",
       "    <tr>\n",
       "      <th>1</th>\n",
       "      <td>1015425</td>\n",
       "      <td>3</td>\n",
       "      <td>1</td>\n",
       "      <td>1</td>\n",
       "      <td>1</td>\n",
       "      <td>2</td>\n",
       "      <td>2</td>\n",
       "      <td>3</td>\n",
       "      <td>1</td>\n",
       "      <td>1</td>\n",
       "      <td>2</td>\n",
       "    </tr>\n",
       "    <tr>\n",
       "      <th>2</th>\n",
       "      <td>1016277</td>\n",
       "      <td>6</td>\n",
       "      <td>8</td>\n",
       "      <td>8</td>\n",
       "      <td>1</td>\n",
       "      <td>3</td>\n",
       "      <td>4</td>\n",
       "      <td>3</td>\n",
       "      <td>7</td>\n",
       "      <td>1</td>\n",
       "      <td>2</td>\n",
       "    </tr>\n",
       "    <tr>\n",
       "      <th>3</th>\n",
       "      <td>1017023</td>\n",
       "      <td>4</td>\n",
       "      <td>1</td>\n",
       "      <td>1</td>\n",
       "      <td>3</td>\n",
       "      <td>2</td>\n",
       "      <td>1</td>\n",
       "      <td>3</td>\n",
       "      <td>1</td>\n",
       "      <td>1</td>\n",
       "      <td>2</td>\n",
       "    </tr>\n",
       "    <tr>\n",
       "      <th>4</th>\n",
       "      <td>1017122</td>\n",
       "      <td>8</td>\n",
       "      <td>10</td>\n",
       "      <td>10</td>\n",
       "      <td>8</td>\n",
       "      <td>7</td>\n",
       "      <td>10</td>\n",
       "      <td>9</td>\n",
       "      <td>7</td>\n",
       "      <td>1</td>\n",
       "      <td>4</td>\n",
       "    </tr>\n",
       "  </tbody>\n",
       "</table>\n",
       "</div>"
      ],
      "text/plain": [
       "   sample_code  clump_thickness  cell_size  cell_shape  marg_adhes  \\\n",
       "0      1002945                5          4           4           5   \n",
       "1      1015425                3          1           1           1   \n",
       "2      1016277                6          8           8           1   \n",
       "3      1017023                4          1           1           3   \n",
       "4      1017122                8         10          10           8   \n",
       "\n",
       "   epi_cell_size bare_nuc  bland_chr  normal_nuc  motoses  class  \n",
       "0              7       10          3           2        1      2  \n",
       "1              2        2          3           1        1      2  \n",
       "2              3        4          3           7        1      2  \n",
       "3              2        1          3           1        1      2  \n",
       "4              7       10          9           7        1      4  "
      ]
     },
     "execution_count": 3,
     "metadata": {},
     "output_type": "execute_result"
    }
   ],
   "source": [
    "bc.head()"
   ]
  },
  {
   "cell_type": "code",
   "execution_count": 4,
   "id": "57b7b75c",
   "metadata": {
    "execution": {
     "iopub.execute_input": "2022-01-21T16:28:09.893342Z",
     "iopub.status.busy": "2022-01-21T16:28:09.892389Z",
     "iopub.status.idle": "2022-01-21T16:28:09.898679Z",
     "shell.execute_reply": "2022-01-21T16:28:09.899196Z",
     "shell.execute_reply.started": "2022-01-21T16:25:17.462381Z"
    },
    "papermill": {
     "duration": 0.020499,
     "end_time": "2022-01-21T16:28:09.899361",
     "exception": false,
     "start_time": "2022-01-21T16:28:09.878862",
     "status": "completed"
    },
    "tags": []
   },
   "outputs": [
    {
     "data": {
      "text/plain": [
       "sample_code        0\n",
       "clump_thickness    0\n",
       "cell_size          0\n",
       "cell_shape         0\n",
       "marg_adhes         0\n",
       "epi_cell_size      0\n",
       "bare_nuc           0\n",
       "bland_chr          0\n",
       "normal_nuc         0\n",
       "motoses            0\n",
       "class              0\n",
       "dtype: int64"
      ]
     },
     "execution_count": 4,
     "metadata": {},
     "output_type": "execute_result"
    }
   ],
   "source": [
    "bc.isnull().sum()"
   ]
  },
  {
   "cell_type": "code",
   "execution_count": 5,
   "id": "d8480eda",
   "metadata": {
    "execution": {
     "iopub.execute_input": "2022-01-21T16:28:09.919690Z",
     "iopub.status.busy": "2022-01-21T16:28:09.918760Z",
     "iopub.status.idle": "2022-01-21T16:28:09.929950Z",
     "shell.execute_reply": "2022-01-21T16:28:09.930463Z",
     "shell.execute_reply.started": "2022-01-21T16:25:31.002871Z"
    },
    "papermill": {
     "duration": 0.022954,
     "end_time": "2022-01-21T16:28:09.930635",
     "exception": false,
     "start_time": "2022-01-21T16:28:09.907681",
     "status": "completed"
    },
    "tags": []
   },
   "outputs": [],
   "source": [
    "bc=bc.drop(columns=['bare_nuc'])"
   ]
  },
  {
   "cell_type": "code",
   "execution_count": 6,
   "id": "7e2df284",
   "metadata": {
    "execution": {
     "iopub.execute_input": "2022-01-21T16:28:09.953784Z",
     "iopub.status.busy": "2022-01-21T16:28:09.953151Z",
     "iopub.status.idle": "2022-01-21T16:28:09.955537Z",
     "shell.execute_reply": "2022-01-21T16:28:09.955997Z",
     "shell.execute_reply.started": "2022-01-21T16:25:42.333554Z"
    },
    "papermill": {
     "duration": 0.016916,
     "end_time": "2022-01-21T16:28:09.956166",
     "exception": false,
     "start_time": "2022-01-21T16:28:09.939250",
     "status": "completed"
    },
    "tags": []
   },
   "outputs": [],
   "source": [
    "x4=bc.iloc[:,0:9]\n",
    "y4=bc.iloc[:,[9]]\n",
    "\n"
   ]
  },
  {
   "cell_type": "code",
   "execution_count": 7,
   "id": "626dcc44",
   "metadata": {
    "execution": {
     "iopub.execute_input": "2022-01-21T16:28:09.977362Z",
     "iopub.status.busy": "2022-01-21T16:28:09.976433Z",
     "iopub.status.idle": "2022-01-21T16:28:11.298510Z",
     "shell.execute_reply": "2022-01-21T16:28:11.297989Z",
     "shell.execute_reply.started": "2022-01-21T16:26:43.587327Z"
    },
    "papermill": {
     "duration": 1.334142,
     "end_time": "2022-01-21T16:28:11.298645",
     "exception": false,
     "start_time": "2022-01-21T16:28:09.964503",
     "status": "completed"
    },
    "tags": []
   },
   "outputs": [],
   "source": [
    "from sklearn.ensemble import AdaBoostClassifier\n",
    "from sklearn import datasets\n",
    "\n",
    "from sklearn.model_selection import train_test_split\n",
    "\n",
    "from sklearn import metrics\n",
    "x4_train, x4_test, y4_train, y4_test = train_test_split(x4, y4, test_size=0.3, random_state=1)"
   ]
  },
  {
   "cell_type": "code",
   "execution_count": 8,
   "id": "40d4bd38",
   "metadata": {
    "execution": {
     "iopub.execute_input": "2022-01-21T16:28:11.318926Z",
     "iopub.status.busy": "2022-01-21T16:28:11.318269Z",
     "iopub.status.idle": "2022-01-21T16:28:11.325307Z",
     "shell.execute_reply": "2022-01-21T16:28:11.325782Z",
     "shell.execute_reply.started": "2022-01-21T16:26:58.190463Z"
    },
    "papermill": {
     "duration": 0.018858,
     "end_time": "2022-01-21T16:28:11.325969",
     "exception": false,
     "start_time": "2022-01-21T16:28:11.307111",
     "status": "completed"
    },
    "tags": []
   },
   "outputs": [],
   "source": [
    "from sklearn.metrics import confusion_matrix, accuracy_score, classification_report\n",
    "\n",
    "\n",
    "def evaluate(model, x4_train, x4_test, y4_train, y4_test):\n",
    "    y4_test_pred = model.predict(x4_test)\n",
    "    y4_train_pred = model.predict(x4_train)\n",
    "\n",
    "    print(\"TRAINIG RESULTS: \\n===============================\")\n",
    "    clf_report = pd.DataFrame(classification_report(y4_train, y4_train_pred, output_dict=True))\n",
    "    print(f\"CONFUSION MATRIX:\\n{confusion_matrix(y4_train, y4_train_pred)}\")\n",
    "    print(f\"ACCURACY SCORE:\\n{accuracy_score(y4_train, y4_train_pred):.4f}\")\n",
    "    print(f\"CLASSIFICATION REPORT:\\n{clf_report}\")\n",
    "\n",
    "    print(\"TESTING RESULTS: \\n===============================\")\n",
    "    clf_report = pd.DataFrame(classification_report(y4_test, y4_test_pred, output_dict=True))\n",
    "    print(f\"CONFUSION MATRIX:\\n{confusion_matrix(y4_test, y4_test_pred)}\")\n",
    "    print(f\"ACCURACY SCORE:\\n{accuracy_score(y4_test, y4_test_pred):.4f}\")\n",
    "    print(f\"CLASSIFICATION REPORT:\\n{clf_report}\")"
   ]
  },
  {
   "cell_type": "code",
   "execution_count": 9,
   "id": "8c873bbb",
   "metadata": {
    "execution": {
     "iopub.execute_input": "2022-01-21T16:28:11.345928Z",
     "iopub.status.busy": "2022-01-21T16:28:11.345282Z",
     "iopub.status.idle": "2022-01-21T16:28:11.439882Z",
     "shell.execute_reply": "2022-01-21T16:28:11.440339Z",
     "shell.execute_reply.started": "2022-01-21T16:27:12.451155Z"
    },
    "papermill": {
     "duration": 0.106173,
     "end_time": "2022-01-21T16:28:11.440501",
     "exception": false,
     "start_time": "2022-01-21T16:28:11.334328",
     "status": "completed"
    },
    "tags": []
   },
   "outputs": [
    {
     "name": "stdout",
     "output_type": "stream",
     "text": [
      "TRAINIG RESULTS: \n",
      "===============================\n",
      "CONFUSION MATRIX:\n",
      "[[308   7]\n",
      " [  6 167]]\n",
      "ACCURACY SCORE:\n",
      "0.9734\n",
      "CLASSIFICATION REPORT:\n",
      "                    2           4  accuracy   macro avg  weighted avg\n",
      "precision    0.980892    0.959770  0.973361    0.970331      0.973404\n",
      "recall       0.977778    0.965318  0.973361    0.971548      0.973361\n",
      "f1-score     0.979332    0.962536  0.973361    0.970934      0.973378\n",
      "support    315.000000  173.000000  0.973361  488.000000    488.000000\n",
      "TESTING RESULTS: \n",
      "===============================\n",
      "CONFUSION MATRIX:\n",
      "[[141   1]\n",
      " [  7  61]]\n",
      "ACCURACY SCORE:\n",
      "0.9619\n",
      "CLASSIFICATION REPORT:\n",
      "                    2          4  accuracy   macro avg  weighted avg\n",
      "precision    0.952703   0.983871  0.961905    0.968287      0.962795\n",
      "recall       0.992958   0.897059  0.961905    0.945008      0.961905\n",
      "f1-score     0.972414   0.938462  0.961905    0.955438      0.961420\n",
      "support    142.000000  68.000000  0.961905  210.000000    210.000000\n"
     ]
    },
    {
     "name": "stderr",
     "output_type": "stream",
     "text": [
      "/opt/conda/lib/python3.7/site-packages/sklearn/utils/validation.py:72: DataConversionWarning: A column-vector y was passed when a 1d array was expected. Please change the shape of y to (n_samples, ), for example using ravel().\n",
      "  return f(**kwargs)\n"
     ]
    }
   ],
   "source": [
    "from sklearn.ensemble import AdaBoostClassifier\n",
    "\n",
    "ada_boost_clf = AdaBoostClassifier(n_estimators=30)\n",
    "ada_boost_clf.fit(x4_train, y4_train)\n",
    "evaluate(ada_boost_clf, x4_train, x4_test, y4_train, y4_test)"
   ]
  },
  {
   "cell_type": "code",
   "execution_count": 10,
   "id": "5de5775c",
   "metadata": {
    "execution": {
     "iopub.execute_input": "2022-01-21T16:28:11.465144Z",
     "iopub.status.busy": "2022-01-21T16:28:11.464549Z",
     "iopub.status.idle": "2022-01-21T16:28:11.481488Z",
     "shell.execute_reply": "2022-01-21T16:28:11.481947Z",
     "shell.execute_reply.started": "2022-01-21T16:27:26.805388Z"
    },
    "papermill": {
     "duration": 0.032676,
     "end_time": "2022-01-21T16:28:11.482127",
     "exception": false,
     "start_time": "2022-01-21T16:28:11.449451",
     "status": "completed"
    },
    "tags": []
   },
   "outputs": [
    {
     "name": "stdout",
     "output_type": "stream",
     "text": [
      "Scores AdaBoost: {'Train': 0.9733606557377049, 'Test': 0.9619047619047619}\n"
     ]
    }
   ],
   "source": [
    "scores = {\n",
    "        'Train': accuracy_score(y4_train, ada_boost_clf.predict(x4_train)),\n",
    "        'Test': accuracy_score(y4_test, ada_boost_clf.predict(x4_test)),\n",
    "    }\n",
    "print(\"Scores AdaBoost:\",scores)"
   ]
  },
  {
   "cell_type": "code",
   "execution_count": null,
   "id": "a2dd0213",
   "metadata": {
    "papermill": {
     "duration": 0.008902,
     "end_time": "2022-01-21T16:28:11.500238",
     "exception": false,
     "start_time": "2022-01-21T16:28:11.491336",
     "status": "completed"
    },
    "tags": []
   },
   "outputs": [],
   "source": []
  }
 ],
 "metadata": {
  "kernelspec": {
   "display_name": "Python 3",
   "language": "python",
   "name": "python3"
  },
  "language_info": {
   "codemirror_mode": {
    "name": "ipython",
    "version": 3
   },
   "file_extension": ".py",
   "mimetype": "text/x-python",
   "name": "python",
   "nbconvert_exporter": "python",
   "pygments_lexer": "ipython3",
   "version": "3.7.12"
  },
  "papermill": {
   "default_parameters": {},
   "duration": 12.047805,
   "end_time": "2022-01-21T16:28:12.218757",
   "environment_variables": {},
   "exception": null,
   "input_path": "__notebook__.ipynb",
   "output_path": "__notebook__.ipynb",
   "parameters": {},
   "start_time": "2022-01-21T16:28:00.170952",
   "version": "2.3.3"
  }
 },
 "nbformat": 4,
 "nbformat_minor": 5
}
